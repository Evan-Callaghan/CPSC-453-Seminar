{
 "cells": [
  {
   "cell_type": "code",
   "execution_count": 2,
   "metadata": {},
   "outputs": [],
   "source": [
    "#### Blockbuster Recommendation System Project\n",
    "\n",
    "## Importing necessary packages\n",
    "import pandas as pd\n",
    "import Recommendations\n",
    "pd.set_option('display.max_rows', None, 'display.max_columns', None)\n",
    "\n",
    "## Reading the data\n",
    "blockbuster = pd.read_csv('blockbuster.csv')"
   ]
  },
  {
   "cell_type": "code",
   "execution_count": 3,
   "metadata": {},
   "outputs": [],
   "source": [
    "## Extracting recommendations\n",
    "recommendations = Recommendations.recommender_main(blockbuster)"
   ]
  },
  {
   "cell_type": "code",
   "execution_count": 4,
   "metadata": {},
   "outputs": [],
   "source": [
    "for i in range(0, recommendations.shape[0]):\n",
    "    recommendations.at[i, 'Genre'] = recommendations.at[i, 'Genre'].replace(\"[\", '')\n",
    "    recommendations.at[i, 'Genre'] = recommendations.at[i, 'Genre'].replace(\"'\", '')\n",
    "    recommendations.at[i, 'Genre'] = recommendations.at[i, 'Genre'].replace(\"]\", '')\n",
    "    \n",
    "    recommendations.at[i, 'Genre'] = list(recommendations.at[i, 'Genre'].split(\", \"))"
   ]
  },
  {
   "cell_type": "code",
   "execution_count": 5,
   "metadata": {},
   "outputs": [],
   "source": [
    "recommendations = recommendations.explode('Genre').reset_index(drop = True)"
   ]
  },
  {
   "cell_type": "code",
   "execution_count": 11,
   "metadata": {},
   "outputs": [],
   "source": [
    "recommendations = recommendations[recommendations['Genre'] != 'nan'].reset_index(drop = True)"
   ]
  },
  {
   "cell_type": "code",
   "execution_count": 14,
   "metadata": {},
   "outputs": [],
   "source": [
    "## Returning a file data set for user interface\n",
    "\n",
    "recommendations.to_csv('blockbuster_recommendations.csv', index = False)"
   ]
  }
 ],
 "metadata": {
  "kernelspec": {
   "display_name": "Python 3",
   "language": "python",
   "name": "python3"
  },
  "language_info": {
   "codemirror_mode": {
    "name": "ipython",
    "version": 3
   },
   "file_extension": ".py",
   "mimetype": "text/x-python",
   "name": "python",
   "nbconvert_exporter": "python",
   "pygments_lexer": "ipython3",
   "version": "3.8.3"
  }
 },
 "nbformat": 4,
 "nbformat_minor": 4
}
