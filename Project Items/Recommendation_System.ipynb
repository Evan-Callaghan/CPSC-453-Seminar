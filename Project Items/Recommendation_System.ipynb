{
 "cells": [
  {
   "cell_type": "markdown",
   "metadata": {},
   "source": [
    "# Blockbuster Recommendation System Project"
   ]
  },
  {
   "cell_type": "markdown",
   "metadata": {},
   "source": [
    "### This .ipynb file reads the cleaned blockbuster data set and calls the functions of Recommendation.py to produce the final data set. In the last step, it will export the final_recommendation data set to a csv file for the creation of the user interface."
   ]
  },
  {
   "cell_type": "code",
   "execution_count": null,
   "metadata": {},
   "outputs": [],
   "source": [
    "## Importing necessary packages\n",
    "import pandas as pd\n",
    "import Recommendations\n",
    "pd.set_option('display.max_rows', None, 'display.max_columns', None)\n",
    "\n",
    "## Reading the cleaned blockbuster data set\n",
    "blockbuster = pd.read_csv('blockbuster.csv')\n",
    "\n",
    "## Extracting all recommendations\n",
    "recommendations = Recommendations.recommender_main(blockbuster)\n",
    "\n",
    "## Returning a final data set for user interface\n",
    "recommendations.to_csv('blockbuster_recommendations.csv', index = False)"
   ]
  }
 ],
 "metadata": {
  "kernelspec": {
   "display_name": "Python 3",
   "language": "python",
   "name": "python3"
  },
  "language_info": {
   "codemirror_mode": {
    "name": "ipython",
    "version": 3
   },
   "file_extension": ".py",
   "mimetype": "text/x-python",
   "name": "python",
   "nbconvert_exporter": "python",
   "pygments_lexer": "ipython3",
   "version": "3.8.3"
  }
 },
 "nbformat": 4,
 "nbformat_minor": 4
}
