{
 "cells": [
  {
   "cell_type": "code",
   "execution_count": 1,
   "metadata": {},
   "outputs": [],
   "source": [
    "import pandas as pd\n",
    "import numpy as np\n",
    "pd.set_option('display.max_rows', None, 'display.max_columns', None)\n",
    "\n",
    "## Reading in the original Netflix data set\n",
    "movie = pd.read_csv('Movie_Data.csv')\n",
    "\n",
    "## Printing the first five observations\n",
    "movie.head()"
   ]
  },
  {
   "cell_type": "markdown",
   "metadata": {},
   "source": [
    "### Data Subsetting & Cleaning"
   ]
  },
  {
   "cell_type": "code",
   "execution_count": 2,
   "metadata": {},
   "outputs": [
    {
     "name": "stderr",
     "output_type": "stream",
     "text": [
      "<ipython-input-2-69005d2de013>:8: SettingWithCopyWarning: \n",
      "A value is trying to be set on a copy of a slice from a DataFrame\n",
      "\n",
      "See the caveats in the documentation: https://pandas.pydata.org/pandas-docs/stable/user_guide/indexing.html#returning-a-view-versus-a-copy\n",
      "  movie['Languages'][i] = movie['Languages'][i].split(\", \")\n",
      "<ipython-input-2-69005d2de013>:10: SettingWithCopyWarning: \n",
      "A value is trying to be set on a copy of a slice from a DataFrame\n",
      "\n",
      "See the caveats in the documentation: https://pandas.pydata.org/pandas-docs/stable/user_guide/indexing.html#returning-a-view-versus-a-copy\n",
      "  movie['Country Availability'][i] = movie['Country Availability'][i].split(\",\")\n"
     ]
    }
   ],
   "source": [
    "## Changing the \"Languages\" and \"Country Availability\" variables to lists\n",
    "\n",
    "movie['Languages'] = movie['Languages'].astype(str)\n",
    "movie['Country Availability'] = movie['Country Availability'].astype(str)\n",
    "\n",
    "for i in range(0, movie.shape[0]):\n",
    "    \n",
    "    movie['Languages'][i] = movie['Languages'][i].split(\", \")\n",
    "    \n",
    "    movie['Country Availability'][i] = movie['Country Availability'][i].split(\",\")"
   ]
  },
  {
   "cell_type": "code",
   "execution_count": 3,
   "metadata": {},
   "outputs": [],
   "source": [
    "## Creating a new data point for each \"Language\" and \"Country Availability\" option\n",
    "## using the explode() function from Pandas\n",
    "\n",
    "## Languages\n",
    "movie = movie.explode('Languages').reset_index(drop = True)\n",
    "\n",
    "## Country Availability\n",
    "movie = movie.explode('Country Availability').reset_index(drop = True)"
   ]
  },
  {
   "cell_type": "code",
   "execution_count": 4,
   "metadata": {},
   "outputs": [],
   "source": [
    "## Cutting unpopular Languages\n",
    "\n",
    "top_languages = ['English', 'Spanish', 'Hindi', 'French', 'Japanese', 'Korean', 'Mandarin', 'German', 'Arabic', \n",
    "                'Italian', 'Russian', 'Cantonese', 'Portuguese', 'Filipino', 'Chinese', 'Turkish', 'Thai', \n",
    "                'Indonesian', 'Latin', 'Swedish', 'Polish', 'Dutch']\n",
    "\n",
    "\n",
    "for i in range(0, movie.shape[0]):\n",
    "    \n",
    "    ## If the movie language is not a top language:\n",
    "    if np.isin(movie['Languages'][i], top_languages, invert = True):\n",
    "        \n",
    "        ## Drop that observation from the data set\n",
    "        movie = movie.drop([i])\n",
    "\n",
    "## Resetting the index\n",
    "movie = movie.reset_index(drop = True)"
   ]
  },
  {
   "cell_type": "code",
   "execution_count": 5,
   "metadata": {},
   "outputs": [],
   "source": [
    "## Dropping observations with a missing available country\n",
    "\n",
    "movie = movie[movie['Country Availability'] != 'nan']"
   ]
  },
  {
   "cell_type": "code",
   "execution_count": 6,
   "metadata": {},
   "outputs": [],
   "source": [
    "## Creating \"Movie\" and \"Series\" subsets\n",
    "\n",
    "movies = movie[movie['Series or Movie'] == 'Movie'].reset_index(drop = True)\n",
    "\n",
    "series = movie[movie['Series or Movie'] == 'Series'].reset_index(drop = True)"
   ]
  },
  {
   "cell_type": "code",
   "execution_count": 7,
   "metadata": {},
   "outputs": [
    {
     "name": "stdout",
     "output_type": "stream",
     "text": [
      "(102837, 29)\n",
      "(53070, 29)\n"
     ]
    }
   ],
   "source": [
    "print(movies.shape)\n",
    "print(series.shape)"
   ]
  },
  {
   "cell_type": "code",
   "execution_count": 8,
   "metadata": {},
   "outputs": [
    {
     "data": {
      "text/plain": [
       "Japan             4963\n",
       "Czech Republic    4838\n",
       "United Kingdom    4834\n",
       "Hungary           4751\n",
       "Canada            4685\n",
       "Switzerland       4670\n",
       "Singapore         4636\n",
       "India             4628\n",
       "Romania           4587\n",
       "Germany           4573\n",
       "Thailand          4572\n",
       "Belgium           4550\n",
       "Australia         4505\n",
       "Slovakia          4495\n",
       "Hong Kong         4411\n",
       "South Korea       4394\n",
       "Malaysia          4310\n",
       "Italy             4246\n",
       "France            4242\n",
       "Argentina         4209\n",
       "Mexico            4206\n",
       "South Africa      4185\n",
       "Greece            4138\n",
       "Russia            4131\n",
       "Netherlands       4108\n",
       "United States     4092\n",
       "Lithuania         4091\n",
       "Poland            4068\n",
       "Brazil            4064\n",
       "Spain             4057\n",
       "Colombia          4047\n",
       "Turkey            4020\n",
       "Israel            4004\n",
       "Sweden            3947\n",
       "Iceland           3895\n",
       "Portugal          3755\n",
       "Name: Country Availability, dtype: int64"
      ]
     },
     "execution_count": 8,
     "metadata": {},
     "output_type": "execute_result"
    }
   ],
   "source": [
    "movie['Country Availability'].value_counts()"
   ]
  },
  {
   "cell_type": "markdown",
   "metadata": {},
   "source": [
    "### Variable Engineering for Movie data set"
   ]
  },
  {
   "cell_type": "code",
   "execution_count": null,
   "metadata": {},
   "outputs": [],
   "source": []
  }
 ],
 "metadata": {
  "kernelspec": {
   "display_name": "Python 3",
   "language": "python",
   "name": "python3"
  },
  "language_info": {
   "codemirror_mode": {
    "name": "ipython",
    "version": 3
   },
   "file_extension": ".py",
   "mimetype": "text/x-python",
   "name": "python",
   "nbconvert_exporter": "python",
   "pygments_lexer": "ipython3",
   "version": "3.8.3"
  }
 },
 "nbformat": 4,
 "nbformat_minor": 4
}
